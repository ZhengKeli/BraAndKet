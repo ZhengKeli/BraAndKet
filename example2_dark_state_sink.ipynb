{
 "cells": [
  {
   "cell_type": "code",
   "execution_count": 16,
   "metadata": {
    "collapsed": true
   },
   "outputs": [],
   "source": [
    "import numpy as np\n",
    "import matplotlib.pyplot as plt\n",
    "import bnk"
   ]
  },
  {
   "cell_type": "markdown",
   "source": [
    "# Structure"
   ],
   "metadata": {
    "collapsed": false
   }
  },
  {
   "cell_type": "markdown",
   "source": [
    "## Cavity Structure"
   ],
   "metadata": {
    "collapsed": false
   }
  },
  {
   "cell_type": "code",
   "execution_count": 17,
   "outputs": [
    {
     "data": {
      "text/plain": "<Figure size 432x288 with 2 Axes>",
      "image/png": "[encoded data removed]"
     },
     "metadata": {
      "needs_background": "light"
     },
     "output_type": "display_data"
    }
   ],
   "source": [
    "class Cavity(bnk.HSpace):\n",
    "    def __init__(self, n=4, name='cavity'):\n",
    "        super().__init__(n, name)\n",
    "\n",
    "        excite = 0\n",
    "        for i in range(1, n):\n",
    "            excite_i = self.eigenstate(i) @ self.eigenstate(i - 1).ct\n",
    "            excite += np.sqrt(i) * excite_i\n",
    "        relax = excite.ct\n",
    "\n",
    "        self.excite = excite\n",
    "        self.relax = relax\n",
    "\n",
    "cavity1 = Cavity(4,'cavity1')\n",
    "cavity2 = Cavity(4,'cavity2')\n",
    "cavity3 = Cavity(4,'cavity3')\n",
    "\n",
    "\n",
    "plt.subplot(1, 2, 1)\n",
    "plt.matshow(cavity1.excite.flattened_values, 0)\n",
    "plt.title(\"cavity1 excite\")\n",
    "\n",
    "plt.subplot(1, 2, 2)\n",
    "plt.matshow(cavity1.relax.flattened_values, 0)\n",
    "plt.title(\"cavity1 relax\")\n",
    "\n",
    "plt.show()"
   ],
   "metadata": {
    "collapsed": false,
    "pycharm": {
     "name": "#%%\n"
    }
   }
  },
  {
   "cell_type": "markdown",
   "source": [
    "## Sink Structure"
   ],
   "metadata": {
    "collapsed": false
   }
  },
  {
   "cell_type": "code",
   "execution_count": 18,
   "outputs": [
    {
     "data": {
      "text/plain": "<Figure size 432x288 with 2 Axes>",
      "image/png": "[encoded data removed]"
     },
     "metadata": {
      "needs_background": "light"
     },
     "output_type": "display_data"
    }
   ],
   "source": [
    "sink = bnk.HSpace(2,'sink')\n",
    "\n",
    "sink_excite = sink.eigenstate(1) @ sink.eigenstate(0).ct\n",
    "sink_relax = sink_excite.ct\n",
    "\n",
    "\n",
    "plt.subplot(1, 2, 1)\n",
    "plt.matshow(sink_excite.flattened_values, 0)\n",
    "plt.title(\"sink excite\")\n",
    "\n",
    "plt.subplot(1, 2, 2)\n",
    "plt.matshow(sink_relax.flattened_values, 0)\n",
    "plt.title(\"sink relax\")\n",
    "\n",
    "plt.show()"
   ],
   "metadata": {
    "collapsed": false,
    "pycharm": {
     "name": "#%%\n"
    }
   }
  },
  {
   "cell_type": "markdown",
   "source": [
    "# Evolution"
   ],
   "metadata": {
    "collapsed": false,
    "pycharm": {
     "name": "#%% md\n"
    }
   }
  },
  {
   "cell_type": "markdown",
   "source": [
    "## Hamiltonian"
   ],
   "metadata": {
    "collapsed": false,
    "pycharm": {
     "name": "#%% md\n"
    }
   }
  },
  {
   "cell_type": "code",
   "execution_count": 19,
   "outputs": [
    {
     "data": {
      "text/plain": "<Figure size 288x288 with 1 Axes>",
      "image/png": "[encoded data removed]"
     },
     "metadata": {
      "needs_background": "light"
     },
     "output_type": "display_data"
    }
   ],
   "source": [
    "hb = 1\n",
    "w = 1\n",
    "v12 = 0.2\n",
    "v23 = 0.2\n",
    "\n",
    "energy = (0\n",
    "    + cavity1.excite @ cavity1.relax\n",
    "    + cavity2.excite @ cavity2.relax\n",
    "    + cavity3.excite @ cavity3.relax\n",
    "    + sink_excite @ sink_relax\n",
    ")\n",
    "\n",
    "interaction12 = ( 0\n",
    "    + cavity1.relax @ cavity2.excite\n",
    "    + cavity1.excite @ cavity2.relax\n",
    ")\n",
    "\n",
    "interaction23 = ( 0\n",
    "    + cavity2.relax @ cavity3.excite\n",
    "    + cavity2.excite @ cavity3.relax\n",
    ")\n",
    "\n",
    "hamiltonian = hb * w * energy+ v12 * interaction12 + v23 * interaction23\n",
    "\n",
    "\n",
    "plt.matshow(hamiltonian.flattened_values)\n",
    "plt.title(\"hamiltonian\")\n",
    "plt.show()"
   ],
   "metadata": {
    "collapsed": false,
    "pycharm": {
     "name": "#%%\n"
    }
   }
  },
  {
   "cell_type": "markdown",
   "source": [
    "## Decoherence"
   ],
   "metadata": {
    "collapsed": false
   }
  },
  {
   "cell_type": "code",
   "execution_count": 20,
   "outputs": [
    {
     "data": {
      "text/plain": "<Figure size 288x288 with 1 Axes>",
      "image/png": "[encoded data removed]"
     },
     "metadata": {
      "needs_background": "light"
     },
     "output_type": "display_data"
    }
   ],
   "source": [
    "gamma = 0.4\n",
    "\n",
    "decoherence = gamma * sink_excite @ cavity2.relax\n",
    "\n",
    "\n",
    "plt.matshow(decoherence.flattened_values)\n",
    "plt.title(\"decoherence\")\n",
    "plt.show()"
   ],
   "metadata": {
    "collapsed": false,
    "pycharm": {
     "name": "#%%\n"
    }
   }
  },
  {
   "cell_type": "markdown",
   "source": [
    "# Iteration"
   ],
   "metadata": {
    "collapsed": false
   }
  },
  {
   "cell_type": "markdown",
   "source": [
    "## Initial $\\rho$"
   ],
   "metadata": {
    "collapsed": false
   }
  },
  {
   "cell_type": "code",
   "execution_count": 21,
   "outputs": [
    {
     "data": {
      "text/plain": "<Figure size 288x288 with 1 Axes>",
      "image/png": "[encoded data removed]"
     },
     "metadata": {
      "needs_background": "light"
     },
     "output_type": "display_data"
    }
   ],
   "source": [
    "psi0 = \\\n",
    "    cavity1.eigenstate(1) @ \\\n",
    "    cavity2.eigenstate(0) @ \\\n",
    "    cavity3.eigenstate(0) @ \\\n",
    "    sink.eigenstate(0)\n",
    "\n",
    "rho0 = psi0 @ psi0.ct\n",
    "\n",
    "\n",
    "plt.matshow(rho0.flattened_values)\n",
    "plt.title(\"$\\\\rho_0$\")\n",
    "plt.show()"
   ],
   "metadata": {
    "collapsed": false,
    "pycharm": {
     "name": "#%%\n"
    }
   }
  },
  {
   "cell_type": "markdown",
   "source": [
    "## Configurations"
   ],
   "metadata": {
    "collapsed": false
   }
  },
  {
   "cell_type": "code",
   "execution_count": 22,
   "outputs": [],
   "source": [
    "dt = 0.005\n",
    "mt = 70\n",
    "\n",
    "dlt = mt / 200"
   ],
   "metadata": {
    "collapsed": false,
    "pycharm": {
     "name": "#%%\n"
    }
   }
  },
  {
   "cell_type": "markdown",
   "source": [
    "## Iteration"
   ],
   "metadata": {
    "collapsed": false
   }
  },
  {
   "cell_type": "code",
   "execution_count": 23,
   "outputs": [],
   "source": [
    "logs_t = []\n",
    "logs_probs = []\n",
    "\n",
    "def log_func(t, rho):\n",
    "    logs_t.append(t)\n",
    "\n",
    "    rhos1 = rho.trace(cavity2, cavity3)\n",
    "    rho23 = rho.trace(sink, cavity1)\n",
    "\n",
    "    prob_sink = sink.eigenstate(1).ct @ rhos1.trace(cavity1) @ sink.eigenstate(1)\n",
    "    prob_cavity1 = cavity1.eigenstate(1).ct @ rhos1.trace(sink) @ cavity1.eigenstate(1)\n",
    "    prob_cavity2 = cavity2.eigenstate(1).ct @ rho23.trace(cavity3) @ cavity2.eigenstate(1)\n",
    "    prob_cavity3 = cavity3.eigenstate(1).ct @ rho23.trace(cavity2) @ cavity3.eigenstate(1)\n",
    "\n",
    "    probs = [prob_sink, prob_cavity1, prob_cavity2, prob_cavity3]\n",
    "    probs = [prob.values for prob in probs]\n",
    "    probs = np.abs(probs)\n",
    "    logs_probs.append(probs)"
   ],
   "metadata": {
    "collapsed": false,
    "pycharm": {
     "name": "#%%\n"
    }
   }
  },
  {
   "cell_type": "code",
   "execution_count": 24,
   "outputs": [
    {
     "name": "stderr",
     "output_type": "stream",
     "text": [
      "100%|██████████| 70.0/70 [00:28<00:00,  2.43it/s]              \n"
     ]
    },
    {
     "name": "stdout",
     "output_type": "stream",
     "text": [
      "Wall time: 28.8 s\n"
     ]
    },
    {
     "data": {
      "text/plain": "(70.0, <bnk.tensor.QTensor at 0x1753e8bda08>)"
     },
     "execution_count": 24,
     "metadata": {},
     "output_type": "execute_result"
    }
   ],
   "source": [
    "%%time\n",
    "\n",
    "bnk.lindblad_evolve(\n",
    "    0.0, rho0, hamiltonian, decoherence, hb,\n",
    "    mt, dt, dlt, log_func)"
   ],
   "metadata": {
    "collapsed": false,
    "pycharm": {
     "name": "#%%\n"
    }
   }
  },
  {
   "cell_type": "code",
   "execution_count": 25,
   "outputs": [
    {
     "data": {
      "text/plain": "<Figure size 432x288 with 1 Axes>",
      "image/png": "[encoded data removed]"
     },
     "metadata": {
      "needs_background": "light"
     },
     "output_type": "display_data"
    }
   ],
   "source": [
    "def plot_logs(logs_t, logs_probs):\n",
    "    logs_probs = np.asarray(logs_probs)\n",
    "\n",
    "    plt.plot(logs_t, logs_probs[:,0], label='sink')\n",
    "    plt.plot(logs_t, logs_probs[:,1], label='cavity1')\n",
    "    plt.plot(logs_t, logs_probs[:,2], label='cavity2')\n",
    "    plt.plot(logs_t, logs_probs[:,3], label='cavity3')\n",
    "    plt.legend()\n",
    "    plt.xlabel(\"time\")\n",
    "    plt.ylabel(\"prob\")\n",
    "    plt.show()\n",
    "\n",
    "plot_logs(logs_t,logs_probs)"
   ],
   "metadata": {
    "collapsed": false,
    "pycharm": {
     "name": "#%%\n"
    }
   }
  },
  {
   "cell_type": "markdown",
   "source": [
    "# Reduction"
   ],
   "metadata": {
    "collapsed": false
   }
  },
  {
   "cell_type": "code",
   "execution_count": 26,
   "outputs": [
    {
     "name": "stdout",
     "output_type": "stream",
     "text": [
      "['cavity1', 'cavity2', 'cavity3', 'sink']\n",
      "0 [0, 0, 0, 1]\n",
      "1 [0, 0, 1, 0]\n",
      "2 [0, 1, 0, 0]\n",
      "3 [1, 0, 0, 0]\n"
     ]
    }
   ],
   "source": [
    "reduced_space = bnk.ReducedHSpace.from_seed(\n",
    "    [psi0],[hamiltonian, decoherence],'reduced_system')\n",
    "\n",
    "print([dim.name for dim in reduced_space.org_eigenstates[0].dims])\n",
    "for i, org_eigenstate in enumerate(reduced_space.org_eigenstates):\n",
    "    code = list(np.transpose(np.where(org_eigenstate.values))[0])\n",
    "    print(i, code)"
   ],
   "metadata": {
    "collapsed": false,
    "pycharm": {
     "name": "#%%\n"
    }
   }
  },
  {
   "cell_type": "markdown",
   "source": [
    "## Evolution (reduced)"
   ],
   "metadata": {
    "collapsed": false,
    "pycharm": {
     "name": "#%% md\n"
    }
   }
  },
  {
   "cell_type": "code",
   "execution_count": 27,
   "outputs": [
    {
     "data": {
      "text/plain": "<Figure size 432x288 with 0 Axes>"
     },
     "metadata": {},
     "output_type": "display_data"
    },
    {
     "data": {
      "text/plain": "<Figure size 288x288 with 1 Axes>",
      "image/png": "[encoded data removed]"
     },
     "metadata": {
      "needs_background": "light"
     },
     "output_type": "display_data"
    },
    {
     "data": {
      "text/plain": "<Figure size 432x288 with 0 Axes>"
     },
     "metadata": {},
     "output_type": "display_data"
    },
    {
     "data": {
      "text/plain": "<Figure size 288x288 with 1 Axes>",
      "image/png": "[encoded data removed]"
     },
     "metadata": {
      "needs_background": "light"
     },
     "output_type": "display_data"
    }
   ],
   "source": [
    "reduced_rho0 = reduced_space.reduce(rho0)\n",
    "reduced_hamiltonian = reduced_space.reduce(hamiltonian)\n",
    "reduced_decoherence = reduced_space.reduce(decoherence)\n",
    "\n",
    "\n",
    "plt.figure()\n",
    "plt.matshow(reduced_rho0.flattened_values)\n",
    "plt.title(\"reduced $\\\\rho_0$\")\n",
    "\n",
    "plt.figure()\n",
    "plt.matshow(reduced_hamiltonian.flattened_values)\n",
    "plt.title(\"reduced hamiltonian\")\n",
    "\n",
    "plt.show()"
   ],
   "metadata": {
    "collapsed": false,
    "pycharm": {
     "name": "#%%\n"
    }
   }
  },
  {
   "cell_type": "markdown",
   "source": [
    "## Iteration (reduced)"
   ],
   "metadata": {
    "collapsed": false,
    "pycharm": {
     "name": "#%% md\n"
    }
   }
  },
  {
   "cell_type": "code",
   "execution_count": 28,
   "outputs": [],
   "source": [
    "logs_t = []\n",
    "logs_probs = []\n",
    "\n",
    "def log_func_reduced(t, rho_reduced):\n",
    "    log_func(t, reduced_space.inflate(rho_reduced))"
   ],
   "metadata": {
    "collapsed": false,
    "pycharm": {
     "name": "#%%\n"
    }
   }
  },
  {
   "cell_type": "code",
   "execution_count": 29,
   "outputs": [
    {
     "name": "stderr",
     "output_type": "stream",
     "text": [
      "100%|██████████| 70.0/70 [00:00<00:00, 86.66it/s]              \n"
     ]
    },
    {
     "name": "stdout",
     "output_type": "stream",
     "text": [
      "Wall time: 812 ms\n"
     ]
    },
    {
     "data": {
      "text/plain": "(70.0, <bnk.tensor.QTensor at 0x1753d343048>)"
     },
     "execution_count": 29,
     "metadata": {},
     "output_type": "execute_result"
    }
   ],
   "source": [
    "%%time\n",
    "\n",
    "bnk.lindblad_evolve(\n",
    "    0.0, reduced_rho0, reduced_hamiltonian, reduced_decoherence, hb,\n",
    "    mt, dt, dlt, log_func_reduced)"
   ],
   "metadata": {
    "collapsed": false,
    "pycharm": {
     "name": "#%%\n"
    }
   }
  },
  {
   "cell_type": "code",
   "execution_count": 30,
   "outputs": [
    {
     "data": {
      "text/plain": "<Figure size 432x288 with 1 Axes>",
      "image/png": "[encoded data removed]"
     },
     "metadata": {
      "needs_background": "light"
     },
     "output_type": "display_data"
    }
   ],
   "source": [
    "plot_logs(logs_t, logs_probs)"
   ],
   "metadata": {
    "collapsed": false,
    "pycharm": {
     "name": "#%%\n"
    }
   }
  },
  {
   "cell_type": "code",
   "execution_count": 30,
   "outputs": [],
   "source": [],
   "metadata": {
    "collapsed": false,
    "pycharm": {
     "name": "#%%\n"
    }
   }
  }
 ],
 "metadata": {
  "kernelspec": {
   "display_name": "Python 3",
   "language": "python",
   "name": "python3"
  },
  "language_info": {
   "codemirror_mode": {
    "name": "ipython",
    "version": 2
   },
   "file_extension": ".py",
   "mimetype": "text/x-python",
   "name": "python",
   "nbconvert_exporter": "python",
   "pygments_lexer": "ipython2",
   "version": "2.7.6"
  }
 },
 "nbformat": 4,
 "nbformat_minor": 0
}