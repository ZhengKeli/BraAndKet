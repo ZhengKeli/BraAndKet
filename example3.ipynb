{
 "cells": [
  {
   "cell_type": "code",
   "execution_count": 1,
   "metadata": {
    "collapsed": true,
    "pycharm": {
     "is_executing": false
    }
   },
   "outputs": [],
   "source": [
    "import numpy as np\n",
    "import matplotlib.pyplot as plt\n",
    "from bnk import *"
   ]
  },
  {
   "cell_type": "markdown",
   "source": [
    "# Structure"
   ],
   "metadata": {
    "collapsed": false
   }
  },
  {
   "cell_type": "markdown",
   "source": [
    "## Cavity Structure"
   ],
   "metadata": {
    "collapsed": false
   }
  },
  {
   "cell_type": "code",
   "execution_count": 2,
   "outputs": [
    {
     "data": {
      "text/plain": "<Figure size 432x288 with 2 Axes>",
      "image/png": "[encoded data removed]"
     },
     "metadata": {
      "needs_background": "light"
     },
     "output_type": "display_data"
    }
   ],
   "source": [
    "class Cavity:\n",
    "    def __init__(self, n=4, name='cavity'):\n",
    "        space = Space(n, name)\n",
    "        \n",
    "        excise = 0\n",
    "        for i in range(1, n):\n",
    "            excise_i = space.eigenstate(i) @ space.eigenstate(i - 1).ct\n",
    "            excise += np.sqrt(i) * excise_i\n",
    "        relax = excise.ct\n",
    "\n",
    "        self.space = space\n",
    "        self.excise = excise\n",
    "        self.relax = relax\n",
    "    \n",
    "    def eigenstate(self, k):\n",
    "        return self.space.eigenstate(k)\n",
    "\n",
    "cavity1 = Cavity(2,'cavity1')\n",
    "cavity2 = Cavity(2,'cavity2')\n",
    "cavity3 = Cavity(2,'cavity3')\n",
    "\n",
    "\n",
    "plt.subplot(1, 2, 1)\n",
    "plt.matshow(cavity1.excise.flattened_values, 0)\n",
    "plt.title(\"cavity1 excise\")\n",
    "\n",
    "plt.subplot(1, 2, 2)\n",
    "plt.matshow(cavity1.relax.flattened_values, 0)\n",
    "plt.title(\"cavity1 relax\")\n",
    "\n",
    "plt.show()"
   ],
   "metadata": {
    "collapsed": false,
    "pycharm": {
     "name": "#%%\n",
     "is_executing": false
    }
   }
  },
  {
   "cell_type": "markdown",
   "source": [
    "## Sink Structure"
   ],
   "metadata": {
    "collapsed": false
   }
  },
  {
   "cell_type": "code",
   "execution_count": 3,
   "outputs": [
    {
     "data": {
      "text/plain": "<Figure size 432x288 with 2 Axes>",
      "image/png": "[encoded data removed]"
     },
     "metadata": {
      "needs_background": "light"
     },
     "output_type": "display_data"
    }
   ],
   "source": [
    "sink_space = Space(2,'sink')\n",
    "\n",
    "sink_excise = sink_space.eigenstate(1) @ sink_space.eigenstate(0).ct\n",
    "sink_relax = sink_excise.ct\n",
    "\n",
    "\n",
    "plt.subplot(1, 2, 1)\n",
    "plt.matshow(sink_excise.flattened_values, 0)\n",
    "plt.title(\"sink excise\")\n",
    "\n",
    "plt.subplot(1, 2, 2)\n",
    "plt.matshow(sink_relax.flattened_values, 0)\n",
    "plt.title(\"sink relax\")\n",
    "\n",
    "plt.show()"
   ],
   "metadata": {
    "collapsed": false,
    "pycharm": {
     "name": "#%%\n",
     "is_executing": false
    }
   }
  },
  {
   "cell_type": "markdown",
   "source": [
    "# Evolution"
   ],
   "metadata": {
    "collapsed": false,
    "pycharm": {
     "name": "#%% md\n"
    }
   }
  },
  {
   "cell_type": "markdown",
   "source": [
    "## Hamiltonian"
   ],
   "metadata": {
    "collapsed": false,
    "pycharm": {
     "name": "#%% md\n"
    }
   }
  },
  {
   "cell_type": "code",
   "execution_count": 4,
   "outputs": [
    {
     "data": {
      "text/plain": "<Figure size 288x288 with 1 Axes>",
      "image/png": "[encoded data removed]"
     },
     "metadata": {
      "needs_background": "light"
     },
     "output_type": "display_data"
    }
   ],
   "source": [
    "energy = (0\n",
    "    + cavity1.excise @ cavity1.relax  \n",
    "    + cavity2.excise @ cavity2.relax  \n",
    "    + cavity3.excise @ cavity3.relax  \n",
    "    + sink_excise @ sink_relax\n",
    ")\n",
    "\n",
    "interaction12 = ( 0\n",
    "    + cavity1.relax @ cavity2.excise\n",
    "    + cavity1.excise @ cavity2.relax\n",
    ")\n",
    "\n",
    "interaction23 = ( 0\n",
    "    + cavity2.relax @ cavity3.excise\n",
    "    + cavity2.excise @ cavity3.relax\n",
    ")\n",
    "\n",
    "def hamiltonian(hb, w, v12, v23):\n",
    "    return hb * w * energy+ v12 * interaction12 + v23 * interaction23\n",
    "\n",
    "\n",
    "plt.matshow(hamiltonian(1, 1, 0.3, 0.3).flattened_values)\n",
    "plt.title(\"hamiltonian\")\n",
    "plt.show()"
   ],
   "metadata": {
    "collapsed": false,
    "pycharm": {
     "name": "#%%\n",
     "is_executing": false
    }
   }
  },
  {
   "cell_type": "markdown",
   "source": [
    "## Evolution"
   ],
   "metadata": {
    "collapsed": false
   }
  },
  {
   "cell_type": "code",
   "execution_count": 5,
   "outputs": [],
   "source": [
    "deco = sink_excise @ cavity2.relax\n",
    "\n",
    "def evolve(rho, hb, w, v12, v23, gamma):\n",
    "    hmt = hamiltonian(hb,w,v12,v23)\n",
    "    deco_ct = deco.ct\n",
    "    deco_ct_deco = deco_ct @ deco\n",
    "    return hmt @ rho - rho @ hmt + 1j * gamma*(deco @ rho @ deco_ct - 0.5 * (deco_ct_deco@ rho + rho @ deco_ct_deco))"
   ],
   "metadata": {
    "collapsed": false,
    "pycharm": {
     "name": "#%%\n",
     "is_executing": false
    }
   }
  },
  {
   "cell_type": "markdown",
   "source": [
    "# Iteration"
   ],
   "metadata": {
    "collapsed": false,
    "pycharm": {
     "name": "#%% md\n"
    }
   }
  },
  {
   "cell_type": "markdown",
   "source": [
    "## Initial $\\rho$"
   ],
   "metadata": {
    "collapsed": false
   }
  },
  {
   "cell_type": "code",
   "execution_count": 6,
   "outputs": [
    {
     "data": {
      "text/plain": "<Figure size 288x288 with 1 Axes>",
      "image/png": "[encoded data removed]"
     },
     "metadata": {
      "needs_background": "light"
     },
     "output_type": "display_data"
    }
   ],
   "source": [
    "initial_state = \\\n",
    "    cavity1.eigenstate(1) @ \\\n",
    "    cavity2.eigenstate(0) @ \\\n",
    "    cavity3.eigenstate(0) @ \\\n",
    "    sink_space.eigenstate(0)\n",
    "\n",
    "initial_rho = initial_state @ initial_state.ct\n",
    "\n",
    "\n",
    "plt.matshow(initial_rho.flattened_values)\n",
    "plt.title(\"$\\\\rho_0$\")\n",
    "plt.show()"
   ],
   "metadata": {
    "collapsed": false,
    "pycharm": {
     "name": "#%%\n",
     "is_executing": false
    }
   }
  },
  {
   "cell_type": "markdown",
   "source": [
    "## Constant"
   ],
   "metadata": {
    "collapsed": false,
    "pycharm": {
     "name": "#%% md\n"
    }
   }
  },
  {
   "cell_type": "code",
   "execution_count": 7,
   "outputs": [],
   "source": [
    "hb = 1\n",
    "w = 1\n",
    "\n",
    "v12 = 0.2\n",
    "v23 = 0.2\n",
    "gamma = 0.2"
   ],
   "metadata": {
    "collapsed": false,
    "pycharm": {
     "name": "#%%\n",
     "is_executing": false
    }
   }
  },
  {
   "cell_type": "markdown",
   "source": [
    "## Configurations"
   ],
   "metadata": {
    "collapsed": false
   }
  },
  {
   "cell_type": "code",
   "execution_count": 8,
   "outputs": [],
   "source": [
    "dt = 0.005\n",
    "mt = 70\n",
    "\n",
    "logs_dt = mt / 200"
   ],
   "metadata": {
    "collapsed": false,
    "pycharm": {
     "name": "#%%\n",
     "is_executing": false
    }
   }
  },
  {
   "cell_type": "markdown",
   "source": [
    "## Iterations"
   ],
   "metadata": {
    "collapsed": false
   }
  },
  {
   "cell_type": "code",
   "execution_count": 9,
   "outputs": [
    {
     "name": "stdout",
     "text": [
      "computing...99.59%\n",
      "finished\n",
      "Wall time: 56.4 s\n"
     ],
     "output_type": "stream"
    }
   ],
   "source": [
    "%%time\n",
    "\n",
    "t = 0.0\n",
    "rho = initial_rho\n",
    "\n",
    "logs_t = float('-inf')\n",
    "logs = []\n",
    "\n",
    "while t < mt:\n",
    "    t += dt\n",
    "    rho += evolve(rho,hb,w,v12,v23,gamma) * (dt / (1j * hb))\n",
    "    \n",
    "    if t - logs_t > logs_dt:\n",
    "        \n",
    "        rho /= rho.trace().values\n",
    "        \n",
    "        logs_t = t\n",
    "        \n",
    "        prob_cavity1 = (cavity1.eigenstate(1).ct @ rho @ cavity1.eigenstate(1)).trace()\n",
    "        prob_cavity2 = (cavity2.eigenstate(1).ct @ rho @ cavity2.eigenstate(1)).trace()\n",
    "        prob_cavity3 = (cavity3.eigenstate(1).ct @ rho @ cavity3.eigenstate(1)).trace()\n",
    "        prob_sink = (sink_space.eigenstate(1).ct @ rho @ sink_space.eigenstate(1)).trace()\n",
    "        \n",
    "        logs.append((t, prob_cavity1, prob_cavity2, prob_cavity3, prob_sink))\n",
    "        \n",
    "        print(f\"\\rcomputing...{t/mt:.2%}\", end='')\n",
    "        \n",
    "print(\"\\nfinished\")"
   ],
   "metadata": {
    "collapsed": false,
    "pycharm": {
     "name": "#%%\n",
     "is_executing": false
    }
   }
  },
  {
   "cell_type": "code",
   "execution_count": 10,
   "outputs": [
    {
     "data": {
      "text/plain": "<Figure size 432x288 with 1 Axes>",
      "image/png": "[encoded data removed]"
     },
     "metadata": {
      "needs_background": "light"
     },
     "output_type": "display_data"
    }
   ],
   "source": [
    "logs_t, logs_cavity1, logs_cavity2, logs_cavity3, logs_sink = np.transpose(logs)\n",
    "plt.plot(logs_t, logs_cavity1, label='cavity1')\n",
    "plt.plot(logs_t, logs_cavity2, label='cavity2')\n",
    "plt.plot(logs_t, logs_cavity3, label='cavity3')\n",
    "plt.plot(logs_t, logs_sink, label='sink')\n",
    "plt.legend()\n",
    "plt.xlabel(\"time\")\n",
    "plt.ylabel(\"prob\")\n",
    "plt.show()"
   ],
   "metadata": {
    "collapsed": false,
    "pycharm": {
     "name": "#%%\n",
     "is_executing": false
    }
   }
  },
  {
   "cell_type": "code",
   "execution_count": 10,
   "outputs": [],
   "source": [],
   "metadata": {
    "collapsed": false,
    "pycharm": {
     "name": "#%%\n",
     "is_executing": false
    }
   }
  }
 ],
 "metadata": {
  "kernelspec": {
   "display_name": "Python 3",
   "language": "python",
   "name": "python3"
  },
  "language_info": {
   "codemirror_mode": {
    "name": "ipython",
    "version": 2
   },
   "file_extension": ".py",
   "mimetype": "text/x-python",
   "name": "python",
   "nbconvert_exporter": "python",
   "pygments_lexer": "ipython2",
   "version": "2.7.6"
  },
  "pycharm": {
   "stem_cell": {
    "cell_type": "raw",
    "source": [],
    "metadata": {
     "collapsed": false
    }
   }
  }
 },
 "nbformat": 4,
 "nbformat_minor": 0
}