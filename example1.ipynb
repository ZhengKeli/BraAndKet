{
 "cells": [
  {
   "cell_type": "code",
   "execution_count": 1,
   "outputs": [],
   "source": [
    "import numpy as np\n",
    "import matplotlib.pyplot as plt\n",
    "from bnk.quantum import Space\n",
    "from bnk.tensor import ZERO"
   ],
   "metadata": {
    "collapsed": false,
    "pycharm": {
     "name": "#%%\n",
     "is_executing": false
    }
   }
  },
  {
   "cell_type": "markdown",
   "source": [
    "# Structure"
   ],
   "metadata": {
    "collapsed": false,
    "pycharm": {
     "name": "#%% md\n"
    }
   }
  },
  {
   "cell_type": "markdown",
   "source": [
    "## Atom Structure"
   ],
   "metadata": {
    "collapsed": false,
    "pycharm": {
     "name": "#%% md\n",
     "is_executing": false
    }
   }
  },
  {
   "cell_type": "code",
   "execution_count": 2,
   "outputs": [
    {
     "data": {
      "text/plain": "<Figure size 432x288 with 2 Axes>",
      "image/png": "[encoded data removed]"
     },
     "metadata": {
      "needs_background": "light"
     },
     "output_type": "display_data"
    }
   ],
   "source": [
    "atom_space = Space(2, name='atom', key=1)\n",
    "\n",
    "atom_excise = atom_space.eigenstate(1) @ atom_space.eigenstate(0).ct\n",
    "atom_relax = atom_excise.ct\n",
    "\n",
    "\n",
    "plt.subplot(1, 2, 1)\n",
    "plt.matshow(atom_excise.flattened_values, 0)\n",
    "plt.title(\"atom excise\")\n",
    "\n",
    "plt.subplot(1, 2, 2)\n",
    "plt.matshow(atom_relax.flattened_values, 0)\n",
    "plt.title(\"atom relax\")\n",
    "\n",
    "plt.show()"
   ],
   "metadata": {
    "collapsed": false,
    "pycharm": {
     "name": "#%%\n",
     "is_executing": false
    }
   }
  },
  {
   "cell_type": "markdown",
   "source": [
    "## Field Structure"
   ],
   "metadata": {
    "collapsed": false,
    "pycharm": {
     "name": "#%% md\n",
     "is_executing": false
    }
   }
  },
  {
   "cell_type": "code",
   "execution_count": 3,
   "outputs": [
    {
     "data": {
      "text/plain": "<Figure size 432x288 with 2 Axes>",
      "image/png": "[encoded data removed]"
     },
     "metadata": {
      "needs_background": "light"
     },
     "output_type": "display_data"
    }
   ],
   "source": [
    "field_space = Space(4, name='field', key=0)\n",
    "\n",
    "field_excise = ZERO\n",
    "for i in range(1, field_space.n):\n",
    "    field_excise_i = field_space.eigenstate(i) @ field_space.eigenstate(i - 1).ct\n",
    "    field_excise += np.sqrt(i) * field_excise_i\n",
    "field_relax = field_excise.ct\n",
    "\n",
    "\n",
    "plt.subplot(1, 2, 1)\n",
    "plt.matshow(field_excise.flattened_values, 0)\n",
    "plt.title(\"field excise\")\n",
    "\n",
    "plt.subplot(1, 2, 2)\n",
    "plt.matshow(field_relax.flattened_values, 0)\n",
    "plt.title(\"field relax\")\n",
    "\n",
    "plt.show()"
   ],
   "metadata": {
    "collapsed": false,
    "pycharm": {
     "name": "#%%\n",
     "is_executing": false
    }
   }
  },
  {
   "cell_type": "markdown",
   "source": [
    "# Evolution"
   ],
   "metadata": {
    "collapsed": false,
    "pycharm": {
     "name": "#%% md\n"
    }
   }
  },
  {
   "cell_type": "markdown",
   "source": [
    "## Hamiltonian"
   ],
   "metadata": {
    "collapsed": false,
    "pycharm": {
     "name": "#%% md\n",
     "is_executing": false
    }
   }
  },
  {
   "cell_type": "code",
   "execution_count": 4,
   "outputs": [
    {
     "data": {
      "text/plain": "<Figure size 288x288 with 1 Axes>",
      "image/png": "[encoded data removed]"
     },
     "metadata": {
      "needs_background": "light"
     },
     "output_type": "display_data"
    }
   ],
   "source": [
    "hb = 1\n",
    "w = 1\n",
    "g = 0.3\n",
    "\n",
    "interaction = (\n",
    "    atom_relax @ field_excise +\n",
    "    atom_excise @ field_relax +\n",
    "    atom_excise @ field_excise +\n",
    "    atom_relax @ field_relax\n",
    ")\n",
    "\n",
    "hamiltonian = (\n",
    "    hb * w * atom_excise @ atom_relax @ field_space.identity_operator() +\n",
    "    hb * w * field_excise @ field_relax @ atom_space.identity_operator() +\n",
    "    g * interaction)\n",
    "\n",
    "\n",
    "plt.matshow(hamiltonian.flattened_values)\n",
    "plt.title(\"hamiltonian\")\n",
    "plt.show()"
   ],
   "metadata": {
    "collapsed": false,
    "pycharm": {
     "name": "#%%\n",
     "is_executing": false
    }
   }
  },
  {
   "cell_type": "markdown",
   "source": [
    "## Evolution"
   ],
   "metadata": {
    "collapsed": false,
    "pycharm": {
     "name": "#%% md\n"
    }
   }
  },
  {
   "cell_type": "code",
   "execution_count": 5,
   "outputs": [],
   "source": [
    "def evolve(rho):\n",
    "    return hamiltonian @ rho - rho @ hamiltonian"
   ],
   "metadata": {
    "collapsed": false,
    "pycharm": {
     "name": "#%%\n",
     "is_executing": false
    }
   }
  },
  {
   "cell_type": "markdown",
   "source": [
    "# Iteration"
   ],
   "metadata": {
    "collapsed": false,
    "pycharm": {
     "name": "#%% md\n"
    }
   }
  },
  {
   "cell_type": "markdown",
   "source": [
    "## Initial $\\rho$"
   ],
   "metadata": {
    "collapsed": false,
    "pycharm": {
     "name": "#%% md\n",
     "is_executing": false
    }
   }
  },
  {
   "cell_type": "code",
   "execution_count": 6,
   "outputs": [
    {
     "data": {
      "text/plain": "<Figure size 288x288 with 1 Axes>",
      "image/png": "[encoded data removed]"
     },
     "metadata": {
      "needs_background": "light"
     },
     "output_type": "display_data"
    }
   ],
   "source": [
    "initial_atom_state = atom_space.eigenstate(0)\n",
    "initial_field_state = field_space.eigenstate(1)\n",
    "initial_state = initial_atom_state @ initial_field_state\n",
    "initial_rho = initial_state @ initial_state.ct\n",
    "\n",
    "\n",
    "plt.matshow(initial_rho.flattened_values)\n",
    "plt.title(\"$\\\\rho_0$\")\n",
    "plt.show()"
   ],
   "metadata": {
    "collapsed": false,
    "pycharm": {
     "name": "#%%\n",
     "is_executing": false
    }
   }
  },
  {
   "cell_type": "markdown",
   "source": [
    "## Configurations"
   ],
   "metadata": {
    "collapsed": false,
    "pycharm": {
     "name": "#%% md\n",
     "is_executing": false
    }
   }
  },
  {
   "cell_type": "code",
   "execution_count": 7,
   "outputs": [],
   "source": [
    "dt = 0.001\n",
    "mt = 20\n",
    "\n",
    "logs_dt = 0.1"
   ],
   "metadata": {
    "collapsed": false,
    "pycharm": {
     "name": "#%%\n",
     "is_executing": false
    }
   }
  },
  {
   "cell_type": "markdown",
   "source": [
    "## Iterations"
   ],
   "metadata": {
    "collapsed": false,
    "pycharm": {
     "name": "#%% md\n"
    }
   }
  },
  {
   "cell_type": "code",
   "execution_count": 8,
   "outputs": [
    {
     "name": "stdout",
     "text": [
      "computing...99.55%\n",
      "finished\n",
      "Wall time: 7.4 s\n"
     ],
     "output_type": "stream"
    }
   ],
   "source": [
    "%%time\n",
    "\n",
    "t = 0.0\n",
    "rho = initial_rho\n",
    "\n",
    "logs_t = float('-inf')\n",
    "logs = []\n",
    "\n",
    "while t < mt:\n",
    "    t += dt\n",
    "    rho += evolve(rho) * (dt / (1j * hb))\n",
    "    \n",
    "    if t - logs_t > logs_dt:\n",
    "        logs_t = t\n",
    "        \n",
    "        atom = atom_space.eigenstate(1).ct @ rho.trace(field_space) @ atom_space.eigenstate(1)\n",
    "        field = field_space.eigenstate(1).ct @ rho.trace(atom_space) @ field_space.eigenstate(1)\n",
    "        logs.append((t, atom, field))\n",
    "        \n",
    "        print(f\"\\rcomputing...{t/mt:.2%}\", end='')\n",
    "        \n",
    "print(\"\\nfinished\")"
   ],
   "metadata": {
    "collapsed": false,
    "pycharm": {
     "name": "#%%\n",
     "is_executing": false
    }
   }
  },
  {
   "cell_type": "code",
   "execution_count": 9,
   "outputs": [
    {
     "data": {
      "text/plain": "<Figure size 432x288 with 1 Axes>",
      "image/png": "[encoded data removed]"
     },
     "metadata": {
      "needs_background": "light"
     },
     "output_type": "display_data"
    }
   ],
   "source": [
    "logs_ts, logs_atoms, logs_fields = np.transpose(logs)\n",
    "plt.plot(logs_ts, logs_atoms, label='atom')\n",
    "plt.plot(logs_ts, logs_fields, label='field')\n",
    "plt.legend()\n",
    "plt.xlabel(\"time\")\n",
    "plt.ylabel(\"prob\")\n",
    "plt.show()\n"
   ],
   "metadata": {
    "collapsed": false,
    "pycharm": {
     "name": "#%%\n",
     "is_executing": false
    }
   }
  }
 ],
 "metadata": {
  "kernelspec": {
   "display_name": "Python 3",
   "language": "python",
   "name": "python3"
  },
  "language_info": {
   "codemirror_mode": {
    "name": "ipython",
    "version": 2
   },
   "file_extension": ".py",
   "mimetype": "text/x-python",
   "name": "python",
   "nbconvert_exporter": "python",
   "pygments_lexer": "ipython2",
   "version": "2.7.6"
  },
  "pycharm": {
   "stem_cell": {
    "cell_type": "raw",
    "source": [],
    "metadata": {
     "collapsed": false
    }
   }
  }
 },
 "nbformat": 4,
 "nbformat_minor": 0
}