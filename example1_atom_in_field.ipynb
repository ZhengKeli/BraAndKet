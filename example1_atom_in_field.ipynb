{
 "cells": [
  {
   "cell_type": "code",
   "execution_count": null,
   "outputs": [],
   "source": [
    "import numpy as np\n",
    "import matplotlib.pyplot as plt\n",
    "import bnk"
   ],
   "metadata": {
    "collapsed": false,
    "pycharm": {
     "name": "#%%\n"
    }
   }
  },
  {
   "cell_type": "markdown",
   "source": [
    "# Structure"
   ],
   "metadata": {
    "collapsed": false,
    "pycharm": {
     "name": "#%% md\n"
    }
   }
  },
  {
   "cell_type": "markdown",
   "source": [
    "## Atom Structure"
   ],
   "metadata": {
    "collapsed": false,
    "pycharm": {
     "name": "#%% md\n",
     "is_executing": false
    }
   }
  },
  {
   "cell_type": "code",
   "execution_count": null,
   "outputs": [],
   "source": [
    "atom = bnk.HSpace(2, name='atom')\n",
    "\n",
    "atom_excite = atom.eigenstate(1) @ atom.eigenstate(0).ct\n",
    "atom_relax = atom_excite.ct\n",
    "\n",
    "\n",
    "plt.subplot(1, 2, 1)\n",
    "plt.matshow(atom_excite.flattened_values, 0)\n",
    "plt.title(\"atom excite\")\n",
    "\n",
    "plt.subplot(1, 2, 2)\n",
    "plt.matshow(atom_relax.flattened_values, 0)\n",
    "plt.title(\"atom relax\")\n",
    "\n",
    "plt.show()"
   ],
   "metadata": {
    "collapsed": false,
    "pycharm": {
     "name": "#%%\n"
    }
   }
  },
  {
   "cell_type": "markdown",
   "source": [
    "## Field Structure"
   ],
   "metadata": {
    "collapsed": false,
    "pycharm": {
     "name": "#%% md\n",
     "is_executing": false
    }
   }
  },
  {
   "cell_type": "code",
   "execution_count": null,
   "outputs": [],
   "source": [
    "field = bnk.HSpace(4, name='field')\n",
    "\n",
    "field_excite = 0\n",
    "for i in range(1, field.n):\n",
    "    field_excite_i = field.eigenstate(i) @ field.eigenstate(i - 1).ct\n",
    "    field_excite += np.sqrt(i) * field_excite_i\n",
    "field_relax = field_excite.ct\n",
    "\n",
    "\n",
    "plt.subplot(1, 2, 1)\n",
    "plt.matshow(field_excite.flattened_values, 0)\n",
    "plt.title(\"field excite\")\n",
    "\n",
    "plt.subplot(1, 2, 2)\n",
    "plt.matshow(field_relax.flattened_values, 0)\n",
    "plt.title(\"field relax\")\n",
    "\n",
    "plt.show()"
   ],
   "metadata": {
    "collapsed": false,
    "pycharm": {
     "name": "#%%\n"
    }
   }
  },
  {
   "cell_type": "markdown",
   "source": [
    "# Evolution"
   ],
   "metadata": {
    "collapsed": false,
    "pycharm": {
     "name": "#%% md\n"
    }
   }
  },
  {
   "cell_type": "markdown",
   "source": [
    "## Hamiltonian"
   ],
   "metadata": {
    "collapsed": false,
    "pycharm": {
     "name": "#%% md\n",
     "is_executing": false
    }
   }
  },
  {
   "cell_type": "code",
   "execution_count": null,
   "outputs": [],
   "source": [
    "hb = 1\n",
    "w = 1\n",
    "g = 0.3\n",
    "\n",
    "interaction = g * (0\n",
    "    + atom_relax @ field_excite\n",
    "    + atom_excite @ field_relax\n",
    "    + atom_excite @ field_excite\n",
    "    + atom_relax @ field_relax\n",
    ")\n",
    "\n",
    "energy = hb * w * (0\n",
    "    + atom_excite @ atom_relax\n",
    "    + field_excite @ field_relax\n",
    ")\n",
    "\n",
    "hamiltonian = energy + interaction\n",
    "\n",
    "\n",
    "plt.matshow(hamiltonian.flattened_values)\n",
    "plt.title(\"hamiltonian\")\n",
    "plt.show()"
   ],
   "metadata": {
    "collapsed": false,
    "pycharm": {
     "name": "#%%\n"
    }
   }
  },
  {
   "cell_type": "markdown",
   "source": [
    "# Iteration"
   ],
   "metadata": {
    "collapsed": false
   }
  },
  {
   "cell_type": "markdown",
   "source": [
    "## Initial $\\psi$"
   ],
   "metadata": {
    "collapsed": false
   }
  },
  {
   "cell_type": "code",
   "execution_count": null,
   "outputs": [],
   "source": [
    "psi0 = atom.eigenstate(0) @ field.eigenstate(1)\n",
    "\n",
    "print('psi0')\n",
    "print(psi0.values)"
   ],
   "metadata": {
    "collapsed": false,
    "pycharm": {
     "name": "#%%\n"
    }
   }
  },
  {
   "cell_type": "markdown",
   "source": [
    "## Configurations"
   ],
   "metadata": {
    "collapsed": false
   }
  },
  {
   "cell_type": "code",
   "execution_count": null,
   "outputs": [],
   "source": [
    "dt = 1e-5\n",
    "mt = 50\n",
    "\n",
    "dlt = mt/100"
   ],
   "metadata": {
    "collapsed": false,
    "pycharm": {
     "name": "#%%\n"
    }
   }
  },
  {
   "cell_type": "markdown",
   "source": [
    "## Iterations"
   ],
   "metadata": {
    "collapsed": false
   }
  },
  {
   "cell_type": "code",
   "execution_count": null,
   "outputs": [],
   "source": [
    "%%time\n",
    "\n",
    "_, _, logs_t, logs_v = bnk.evolve_schrodinger_with_logs(\n",
    "    0.0, psi0, hamiltonian, hb,\n",
    "    mt, dt, dlt)"
   ],
   "metadata": {
    "collapsed": false,
    "pycharm": {
     "name": "#%%\n"
    }
   }
  },
  {
   "cell_type": "code",
   "execution_count": null,
   "outputs": [],
   "source": [
    "def plot_logs(logs_t, logs_v):\n",
    "    logs_v = [v.values for v in logs_v]\n",
    "    logs_p = np.conj(logs_v) * logs_v\n",
    "    logs_angle = np.angle(logs_v) / np.pi\n",
    "\n",
    "    plt.figure()\n",
    "    plt.plot(logs_t, logs_p[:,1,0], label='atom')\n",
    "    plt.plot(logs_t, logs_p[:,0,1], label='field')\n",
    "    plt.legend()\n",
    "    plt.xlabel(\"time\")\n",
    "    plt.ylabel(\"prob\")\n",
    "    plt.show()\n",
    "\n",
    "    plt.figure()\n",
    "    plt.plot(logs_t, logs_angle[:,1,0], label='atom')\n",
    "    plt.plot(logs_t, logs_angle[:,0,1], label='field')\n",
    "    plt.legend()\n",
    "    plt.xlabel(\"time\")\n",
    "    plt.ylabel(\"angle\")\n",
    "    plt.show()\n",
    "\n",
    "plot_logs(logs_t,logs_v)"
   ],
   "metadata": {
    "collapsed": false,
    "pycharm": {
     "name": "#%%\n"
    }
   }
  },
  {
   "cell_type": "markdown",
   "source": [
    "## Reduction"
   ],
   "metadata": {
    "collapsed": false,
    "pycharm": {
     "name": "#%% md\n"
    }
   }
  },
  {
   "cell_type": "code",
   "execution_count": null,
   "outputs": [],
   "source": [
    "reduced_space = bnk.ReducedHSpace.from_seed(\n",
    "    [psi0],[hamiltonian],'reduced_system')\n",
    "\n",
    "print([dim.name for dim in reduced_space.org_eigenstates[0].dims])\n",
    "for i, org_eigenstate in enumerate(reduced_space.org_eigenstates):\n",
    "    code = list(np.transpose(np.where(org_eigenstate.values))[0])\n",
    "    print(i, code)"
   ],
   "metadata": {
    "collapsed": false,
    "pycharm": {
     "name": "#%%\n"
    }
   }
  },
  {
   "cell_type": "code",
   "execution_count": null,
   "outputs": [],
   "source": [
    "reduced_psi0 = reduced_space.reduce(psi0)\n",
    "reduced_hamiltonian = reduced_space.reduce(hamiltonian)\n",
    "\n",
    "print('reduced psi0')\n",
    "print(reduced_psi0.values)\n",
    "\n",
    "plt.matshow(reduced_hamiltonian.flattened_values)\n",
    "plt.title(\"reduced hamiltonian\")\n",
    "plt.show()"
   ],
   "metadata": {
    "collapsed": false,
    "pycharm": {
     "name": "#%%\n"
    }
   }
  },
  {
   "cell_type": "markdown",
   "source": [
    "## Iterations (reduced)"
   ],
   "metadata": {
    "collapsed": false,
    "pycharm": {
     "name": "#%% md\n"
    }
   }
  },
  {
   "cell_type": "code",
   "execution_count": null,
   "outputs": [],
   "source": [
    "%%time\n",
    "\n",
    "_, _, logs_t, logs_v = bnk.evolve_schrodinger_with_logs(\n",
    "    0.0, reduced_psi0, reduced_hamiltonian, hb,\n",
    "    mt, dt, dlt)"
   ],
   "metadata": {
    "collapsed": false,
    "pycharm": {
     "name": "#%%\n"
    }
   }
  },
  {
   "cell_type": "code",
   "execution_count": null,
   "outputs": [],
   "source": [
    "logs_v = [reduced_space.inflate(v) for v in logs_v]\n",
    "plot_logs(logs_t,logs_v)"
   ],
   "metadata": {
    "collapsed": false,
    "pycharm": {
     "name": "#%%\n"
    }
   }
  },
  {
   "cell_type": "code",
   "execution_count": null,
   "outputs": [],
   "source": [],
   "metadata": {
    "collapsed": false,
    "pycharm": {
     "name": "#%%\n"
    }
   }
  }
 ],
 "metadata": {
  "kernelspec": {
   "display_name": "Python 3",
   "language": "python",
   "name": "python3"
  },
  "language_info": {
   "codemirror_mode": {
    "name": "ipython",
    "version": 2
   },
   "file_extension": ".py",
   "mimetype": "text/x-python",
   "name": "python",
   "nbconvert_exporter": "python",
   "pygments_lexer": "ipython2",
   "version": "2.7.6"
  }
 },
 "nbformat": 4,
 "nbformat_minor": 0
}