{
 "cells": [
  {
   "cell_type": "code",
   "execution_count": 19,
   "metadata": {
    "collapsed": true,
    "pycharm": {
     "is_executing": false
    }
   },
   "outputs": [],
   "source": [
    "import numpy as np\n",
    "import matplotlib.pyplot as plt\n",
    "from bnk import *"
   ]
  },
  {
   "cell_type": "markdown",
   "source": [
    "# Structure"
   ],
   "metadata": {
    "collapsed": false
   }
  },
  {
   "cell_type": "code",
   "execution_count": 20,
   "outputs": [
    {
     "data": {
      "text/plain": "<Figure size 432x288 with 2 Axes>",
      "image/png": "[encoded data removed]"
     },
     "metadata": {
      "needs_background": "light"
     },
     "output_type": "display_data"
    }
   ],
   "source": [
    "space = Space(4)\n",
    "\n",
    "interactions_conf = {\n",
    "    (1,2): 0.2,\n",
    "    (2,3): 0.2\n",
    "}\n",
    "\n",
    "decoherences_conf = {\n",
    "    (2,0): 0.2\n",
    "}\n",
    "\n",
    "interactions = zero\n",
    "for (i1,i2), intensity in interactions_conf.items():\n",
    "    interaction = space.eigenstate(i2)@space.eigenstate(i1).ct\n",
    "    interaction += interaction.ct\n",
    "    interaction *= intensity\n",
    "    interactions += interaction\n",
    "\n",
    "decoherences = zero\n",
    "for (i1,i2), intensity in decoherences_conf.items():\n",
    "    decoherence = space.eigenstate(i2)@space.eigenstate(i1).ct\n",
    "    decoherence *= np.sqrt(intensity)\n",
    "    decoherences += decoherence\n",
    "\n",
    "\n",
    "plt.subplot(1, 2, 1)\n",
    "plt.matshow(interactions.flattened_values, 0)\n",
    "plt.title(\"interactions\")\n",
    "\n",
    "plt.subplot(1, 2, 2)\n",
    "plt.matshow(decoherences.flattened_values, 0)\n",
    "plt.title(\"decoherences\")\n",
    "\n",
    "plt.show()"
   ],
   "metadata": {
    "collapsed": false,
    "pycharm": {
     "name": "#%%\n",
     "is_executing": false
    }
   }
  },
  {
   "cell_type": "markdown",
   "source": [
    "# Evolution"
   ],
   "metadata": {
    "collapsed": false,
    "pycharm": {
     "name": "#%% md\n"
    }
   }
  },
  {
   "cell_type": "code",
   "execution_count": 21,
   "outputs": [
    {
     "data": {
      "text/plain": "<Figure size 288x288 with 1 Axes>",
      "image/png": "[encoded data removed]"
     },
     "metadata": {
      "needs_background": "light"
     },
     "output_type": "display_data"
    }
   ],
   "source": [
    "energy = space.identity()\n",
    "\n",
    "def hamiltonian(hb, w):\n",
    "    return hb * w * energy + interactions\n",
    "\n",
    "\n",
    "plt.matshow(hamiltonian(1, 1).flattened_values)\n",
    "plt.title(\"hamiltonian\")\n",
    "plt.show()"
   ],
   "metadata": {
    "collapsed": false,
    "pycharm": {
     "name": "#%%\n",
     "is_executing": false
    }
   }
  },
  {
   "cell_type": "code",
   "execution_count": 22,
   "outputs": [],
   "source": [
    "def evolve(rho, hb, w):\n",
    "    hmt = hamiltonian(hb,w)\n",
    "    deco = decoherences\n",
    "    deco_ct = deco.ct\n",
    "    deco_ct_deco = deco_ct @ deco\n",
    "    return hmt @ rho - rho @ hmt + 1j * (deco @ rho @ deco_ct - 0.5 * (deco_ct_deco@ rho + rho @ deco_ct_deco))"
   ],
   "metadata": {
    "collapsed": false,
    "pycharm": {
     "name": "#%%\n",
     "is_executing": false
    }
   }
  },
  {
   "cell_type": "markdown",
   "source": [
    "# Iteration"
   ],
   "metadata": {
    "collapsed": false,
    "pycharm": {
     "name": "#%% md\n"
    }
   }
  },
  {
   "cell_type": "markdown",
   "source": [
    "## Initial $\\rho$"
   ],
   "metadata": {
    "collapsed": false
   }
  },
  {
   "cell_type": "code",
   "execution_count": 23,
   "outputs": [
    {
     "data": {
      "text/plain": "<Figure size 288x288 with 1 Axes>",
      "image/png": "[encoded data removed]"
     },
     "metadata": {
      "needs_background": "light"
     },
     "output_type": "display_data"
    }
   ],
   "source": [
    "initial_state = space.eigenstate(1)\n",
    "\n",
    "initial_rho = initial_state @ initial_state.ct\n",
    "\n",
    "\n",
    "plt.matshow(initial_rho.flattened_values)\n",
    "plt.title(\"$\\\\rho_0$\")\n",
    "plt.show()"
   ],
   "metadata": {
    "collapsed": false,
    "pycharm": {
     "name": "#%%\n",
     "is_executing": false
    }
   }
  },
  {
   "cell_type": "markdown",
   "source": [
    "## Constant"
   ],
   "metadata": {
    "collapsed": false,
    "pycharm": {
     "name": "#%% md\n"
    }
   }
  },
  {
   "cell_type": "code",
   "execution_count": 24,
   "outputs": [],
   "source": [
    "hb = 1\n",
    "w = 1"
   ],
   "metadata": {
    "collapsed": false,
    "pycharm": {
     "name": "#%%\n",
     "is_executing": false
    }
   }
  },
  {
   "cell_type": "markdown",
   "source": [
    "## Configurations"
   ],
   "metadata": {
    "collapsed": false
   }
  },
  {
   "cell_type": "code",
   "execution_count": 25,
   "outputs": [],
   "source": [
    "dt = 0.005\n",
    "mt = 70\n",
    "\n",
    "logs_dt = mt / 200"
   ],
   "metadata": {
    "collapsed": false,
    "pycharm": {
     "name": "#%%\n",
     "is_executing": false
    }
   }
  },
  {
   "cell_type": "markdown",
   "source": [
    "## Iterations"
   ],
   "metadata": {
    "collapsed": false
   }
  },
  {
   "cell_type": "code",
   "execution_count": 26,
   "outputs": [
    {
     "name": "stdout",
     "text": [
      "computing...99.59%\n",
      "finished\n",
      "Wall time: 27.6 s\n"
     ],
     "output_type": "stream"
    }
   ],
   "source": [
    "%%time\n",
    "\n",
    "t = 0.0\n",
    "rho = initial_rho\n",
    "\n",
    "logs_t = float('-inf')\n",
    "logs = []\n",
    "\n",
    "while t < mt:\n",
    "    t += dt\n",
    "    rho += evolve(rho,hb,w) * (dt / (1j * hb))\n",
    "    \n",
    "    if t - logs_t > logs_dt:\n",
    "        \n",
    "        rho /= rho.trace().values\n",
    "        \n",
    "        logs_t = t\n",
    "        prob_all = np.diag(rho.flattened_values)\n",
    "        \n",
    "        logs.append((t, *prob_all))\n",
    "        \n",
    "        print(f\"\\rcomputing...{t/mt:.2%}\", end='')\n",
    "        \n",
    "print(\"\\nfinished\")"
   ],
   "metadata": {
    "collapsed": false,
    "pycharm": {
     "name": "#%%\n",
     "is_executing": false
    }
   }
  },
  {
   "cell_type": "code",
   "execution_count": 27,
   "outputs": [
    {
     "name": "stderr",
     "text": [
      "C:\\Users\\keli\\Anaconda3\\envs\\sci\\lib\\site-packages\\numpy\\core\\_asarray.py:85: ComplexWarning: Casting complex values to real discards the imaginary part\n",
      "  return array(a, dtype, copy=False, order=order)\n",
      "C:\\Users\\keli\\Anaconda3\\envs\\sci\\lib\\site-packages\\numpy\\core\\_asarray.py:85: ComplexWarning: Casting complex values to real discards the imaginary part\n",
      "  return array(a, dtype, copy=False, order=order)\n",
      "C:\\Users\\keli\\Anaconda3\\envs\\sci\\lib\\site-packages\\numpy\\core\\_asarray.py:85: ComplexWarning: Casting complex values to real discards the imaginary part\n",
      "  return array(a, dtype, copy=False, order=order)\n",
      "C:\\Users\\keli\\Anaconda3\\envs\\sci\\lib\\site-packages\\numpy\\core\\_asarray.py:85: ComplexWarning: Casting complex values to real discards the imaginary part\n",
      "  return array(a, dtype, copy=False, order=order)\n"
     ],
     "output_type": "stream"
    },
    {
     "data": {
      "text/plain": "<Figure size 432x288 with 1 Axes>",
      "image/png": "[encoded data removed]"
     },
     "metadata": {
      "needs_background": "light"
     },
     "output_type": "display_data"
    }
   ],
   "source": [
    "logs_t, logs_sink, logs_cavity1, logs_cavity2, logs_cavity3 = np.transpose(logs)\n",
    "plt.plot(logs_t, logs_cavity1, label='cavity1')\n",
    "plt.plot(logs_t, logs_cavity2, label='cavity2')\n",
    "plt.plot(logs_t, logs_cavity3, label='cavity3')\n",
    "plt.plot(logs_t, logs_sink, label='sink')\n",
    "plt.legend()\n",
    "plt.xlabel(\"time\")\n",
    "plt.ylabel(\"prob\")\n",
    "plt.show()"
   ],
   "metadata": {
    "collapsed": false,
    "pycharm": {
     "name": "#%%\n",
     "is_executing": false
    }
   }
  },
  {
   "cell_type": "code",
   "execution_count": 27,
   "outputs": [],
   "source": [],
   "metadata": {
    "collapsed": false,
    "pycharm": {
     "name": "#%%\n",
     "is_executing": false
    }
   }
  }
 ],
 "metadata": {
  "kernelspec": {
   "display_name": "Python 3",
   "language": "python",
   "name": "python3"
  },
  "language_info": {
   "codemirror_mode": {
    "name": "ipython",
    "version": 2
   },
   "file_extension": ".py",
   "mimetype": "text/x-python",
   "name": "python",
   "nbconvert_exporter": "python",
   "pygments_lexer": "ipython2",
   "version": "2.7.6"
  },
  "pycharm": {
   "stem_cell": {
    "cell_type": "raw",
    "source": [],
    "metadata": {
     "collapsed": false
    }
   }
  }
 },
 "nbformat": 4,
 "nbformat_minor": 0
}